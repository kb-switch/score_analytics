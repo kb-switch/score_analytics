{
 "cells": [
  {
   "cell_type": "markdown",
   "id": "376e8077",
   "metadata": {},
   "source": [
    "# import"
   ]
  },
  {
   "cell_type": "code",
   "execution_count": null,
   "id": "193e58f7",
   "metadata": {
    "ExecuteTime": {
     "end_time": "2022-01-22T08:31:09.078854Z",
     "start_time": "2022-01-22T08:31:08.565324Z"
    }
   },
   "outputs": [],
   "source": [
    "import pandas as pd\n",
    "import numpy as np\n",
    "import matplotlib.pyplot as plt\n",
    "\n",
    "from IPython.display import display\n",
    "import japanize_matplotlib\n",
    "import ipywidgets as widgets\n",
    "\n",
    "%matplotlib inline"
   ]
  },
  {
   "cell_type": "code",
   "execution_count": null,
   "id": "ce706df0",
   "metadata": {
    "ExecuteTime": {
     "end_time": "2022-01-22T08:31:09.681152Z",
     "start_time": "2022-01-22T08:31:09.673444Z"
    },
    "code_folding": [
     0
    ]
   },
   "outputs": [],
   "source": [
    "# const\n",
    "# csv_filepath\n",
    "master_csv = \"csv/score_data.csv\"\n",
    "# header\n",
    "head_row = [\"国語\", \"数学\", \"英語\", \"社会\", \"理科\"]\n",
    "head_mean = [\"国語(平均)\", \"数学(平均)\", \"英語(平均)\", \"社会(平均)\", \"理科(平均)\"]\n",
    "header = head_row + head_mean\n",
    "# concat_const\n",
    "keys = header\n",
    "ignore_index = True\n",
    "# glaph_const\n",
    "nrows = 1\n",
    "ncols = 5\n",
    "figsize_1 = (20, 5)\n",
    "figsize_2 = (20, 10)\n",
    "dpi = 72\n",
    "xlabel = \"第何回\"\n",
    "ylabel = \"得点\"\n",
    "# header\n",
    "head_row = [\"国語\", \"数学\", \"英語\", \"社会\", \"理科\"]\n",
    "head_mean = [\"国語(平均)\", \"数学(平均)\", \"英語(平均)\", \"社会(平均)\", \"理科(平均)\"]\n",
    "header = head_row + head_mean\n",
    "# subject_list, score_dict -> init\n",
    "subjects = []\n",
    "subjects_mean = []\n",
    "score_dict = {}\n",
    "# score_min_max\n",
    "min_score = 0\n",
    "max_score = 100"
   ]
  },
  {
   "cell_type": "markdown",
   "id": "0f932ef8",
   "metadata": {},
   "source": [
    "# make data"
   ]
  },
  {
   "cell_type": "code",
   "execution_count": null,
   "id": "6d1025f9",
   "metadata": {
    "ExecuteTime": {
     "end_time": "2022-01-22T08:31:10.554925Z",
     "start_time": "2022-01-22T08:31:10.549001Z"
    },
    "code_folding": [
     0
    ],
    "scrolled": true
   },
   "outputs": [],
   "source": [
    "def input_data():\n",
    "    \n",
    "    # make textbox(widgets)\n",
    "    for subject in head_row:\n",
    "        score = widgets.BoundedIntText(min=min_score, max=max_score, description=subject)\n",
    "        subjects.append(score)\n",
    "    for subject_mean in head_mean:\n",
    "        score = widgets.BoundedIntText(min=min_score, max=max_score, description=subject_mean)\n",
    "        subjects_mean.append(score)\n",
    "\n",
    "    # input\n",
    "    for i in range(len(head_row)):\n",
    "        box = widgets.Box([subjects[i], subjects_mean[i]])\n",
    "        display(box)\n",
    "    \n",
    "    return (subjects, subjects_mean)"
   ]
  },
  {
   "cell_type": "code",
   "execution_count": null,
   "id": "e188cfba",
   "metadata": {
    "ExecuteTime": {
     "end_time": "2022-01-22T08:31:11.066807Z",
     "start_time": "2022-01-22T08:31:11.062062Z"
    },
    "code_folding": [
     0
    ]
   },
   "outputs": [],
   "source": [
    "def make_score_dict(subjects, subjects_mean):\n",
    "    \n",
    "    # make score_dict\n",
    "    for i in range(len(head_row)):\n",
    "        score_dict[subjects[i].description] = subjects[i].value\n",
    "    for i in range(len(head_mean)):\n",
    "        score_dict[subjects_mean[i].description] = subjects_mean[i].value\n",
    "    \n",
    "    return score_dict"
   ]
  },
  {
   "cell_type": "code",
   "execution_count": null,
   "id": "4e4030a2",
   "metadata": {
    "ExecuteTime": {
     "end_time": "2022-01-22T08:31:12.406665Z",
     "start_time": "2022-01-22T08:31:12.227032Z"
    },
    "scrolled": false
   },
   "outputs": [],
   "source": [
    "# 得点入力\n",
    "subjects, subjects_mean = input_data()"
   ]
  },
  {
   "cell_type": "code",
   "execution_count": null,
   "id": "4b90bfa2",
   "metadata": {
    "ExecuteTime": {
     "end_time": "2022-01-22T08:31:29.605481Z",
     "start_time": "2022-01-22T08:31:29.601093Z"
    },
    "scrolled": true
   },
   "outputs": [],
   "source": [
    "# 得点反映\n",
    "input_data = make_score_dict(subjects, subjects_mean)"
   ]
  },
  {
   "cell_type": "markdown",
   "id": "48f7b55a",
   "metadata": {},
   "source": [
    "# score_visualization"
   ]
  },
  {
   "cell_type": "code",
   "execution_count": null,
   "id": "79ea2ef1",
   "metadata": {
    "ExecuteTime": {
     "end_time": "2022-01-22T08:31:32.047466Z",
     "start_time": "2022-01-22T08:31:31.989660Z"
    },
    "code_folding": [
     0
    ]
   },
   "outputs": [],
   "source": [
    "# 得点の表示\n",
    "master_df = pd.read_csv(master_csv)\n",
    "new_df = pd.DataFrame(score_dict, index=[0])  # value is the int data type -> index=[0]\n",
    "output_df = pd.concat([master_df, new_df], ignore_index=ignore_index)\n",
    "\n",
    "print(\"---前回までの得点表---\")\n",
    "display(master_df)\n",
    "print()\n",
    "print(\"---今回追加分の得点表---\")\n",
    "display(new_df)\n",
    "print()\n",
    "print(\"---得点表---\")\n",
    "display(output_df)\n",
    "print()"
   ]
  },
  {
   "cell_type": "code",
   "execution_count": null,
   "id": "4ef1a537",
   "metadata": {
    "ExecuteTime": {
     "end_time": "2022-01-22T08:31:45.241530Z",
     "start_time": "2022-01-22T08:31:45.230088Z"
    },
    "code_folding": [
     0
    ],
    "scrolled": true
   },
   "outputs": [],
   "source": [
    "def score_transition(score_dict, output_df):\n",
    "    \n",
    "    # glaph type1\n",
    "    df = output_df\n",
    "    x = [i+1 for i in df.iloc[:, :ncols].index]\n",
    "    y = [i for i in range(min_score, max_score+10, 10)]\n",
    "    fig_1, axes = plt.subplots(nrows, ncols, figsize=figsize_1)\n",
    "    for i, subject in enumerate(df.iloc[:, :ncols].columns):\n",
    "        y1 = df[subject]\n",
    "        y2 = df[subject+head_mean[0][2:]]\n",
    "        axes[i].plot(x, y1, label=subject, color=\"b\", marker=\"o\")\n",
    "        axes[i].plot(x, y2, label=subject, color=\"g\", marker=\"o\")\n",
    "        axes[i].set_title(subject)\n",
    "        axes[i].set_xticks(x)\n",
    "        axes[i].set_yticks(y)\n",
    "        axes[i].set_xlabel(xlabel)\n",
    "        if i > 0:\n",
    "            continue\n",
    "        else:\n",
    "            axes[i].set_ylabel(ylabel)\n",
    "    plt.show()\n",
    "    print()\n",
    "    \n",
    "    # glaph type2\n",
    "    fig_2 = plt.figure(figsize=figsize_2, dpi=dpi)\n",
    "    ax = fig_2.add_subplot(111, xlabel=xlabel, ylabel=ylabel, title=\"\")\n",
    "    ax.plot(x, df[df.columns[0]], label=df.columns[0], color=\"r\", marker=\"o\")\n",
    "    ax.plot(x, df[df.columns[1]], label=df.columns[1], color=\"b\", marker=\"o\")\n",
    "    ax.plot(x, df[df.columns[2]], label=df.columns[2], color=\"m\", marker=\"o\")\n",
    "    ax.plot(x, df[df.columns[3]], label=df.columns[3], color=\"y\", marker=\"o\")\n",
    "    ax.plot(x, df[df.columns[4]], label=df.columns[4], color=\"g\", marker=\"o\")\n",
    "    ax.set_xticks(x)\n",
    "    ax.set_yticks(y)\n",
    "    ax.legend()\n",
    "    plt.show()"
   ]
  },
  {
   "cell_type": "code",
   "execution_count": null,
   "id": "b76810b6",
   "metadata": {
    "ExecuteTime": {
     "end_time": "2022-01-22T08:31:54.727994Z",
     "start_time": "2022-01-22T08:31:54.137353Z"
    },
    "scrolled": false
   },
   "outputs": [],
   "source": [
    "# 得点の推移\n",
    "kobayashi_output = score_transition(input_data, output_df)"
   ]
  },
  {
   "cell_type": "markdown",
   "id": "5bc598a8",
   "metadata": {},
   "source": [
    "# save data"
   ]
  },
  {
   "cell_type": "code",
   "execution_count": null,
   "id": "541141f1",
   "metadata": {
    "ExecuteTime": {
     "end_time": "2022-01-22T08:36:08.403499Z",
     "start_time": "2022-01-22T08:36:08.388260Z"
    },
    "code_folding": [
     0
    ]
   },
   "outputs": [],
   "source": [
    "# 保存\n",
    "output_df.to_csv(master_csv, index=False)"
   ]
  },
  {
   "cell_type": "code",
   "execution_count": null,
   "id": "9602fd9b",
   "metadata": {
    "code_folding": [
     0
    ]
   },
   "outputs": [],
   "source": [
    "# 中身確認\n",
    "conf_data = pd.read_csv(master_csv)\n",
    "conf_data"
   ]
  }
 ],
 "metadata": {
  "kernelspec": {
   "display_name": "Python 3 (ipykernel)",
   "language": "python",
   "name": "python3"
  },
  "language_info": {
   "codemirror_mode": {
    "name": "ipython",
    "version": 3
   },
   "file_extension": ".py",
   "mimetype": "text/x-python",
   "name": "python",
   "nbconvert_exporter": "python",
   "pygments_lexer": "ipython3",
   "version": "3.9.7"
  },
  "toc": {
   "base_numbering": 1,
   "nav_menu": {},
   "number_sections": true,
   "sideBar": true,
   "skip_h1_title": false,
   "title_cell": "Table of Contents",
   "title_sidebar": "Contents",
   "toc_cell": false,
   "toc_position": {},
   "toc_section_display": true,
   "toc_window_display": true
  }
 },
 "nbformat": 4,
 "nbformat_minor": 5
}
